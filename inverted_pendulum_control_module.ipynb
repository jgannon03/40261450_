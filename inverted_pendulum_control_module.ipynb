{
  "nbformat": 4,
  "nbformat_minor": 0,
  "metadata": {
    "colab": {
      "name": "inverted_pendulum_control_module",
      "provenance": [],
      "authorship_tag": "ABX9TyPMLebq/Lalr8vNZ9j+IPZC",
      "include_colab_link": true
    },
    "kernelspec": {
      "name": "python3",
      "display_name": "Python 3"
    },
    "language_info": {
      "name": "python"
    }
  },
  "cells": [
    {
      "cell_type": "markdown",
      "metadata": {
        "id": "view-in-github",
        "colab_type": "text"
      },
      "source": [
        "<a href=\"https://colab.research.google.com/github/jgannon03/40261450_/blob/master/inverted_pendulum_control_module.ipynb\" target=\"_parent\"><img src=\"https://colab.research.google.com/assets/colab-badge.svg\" alt=\"Open In Colab\"/></a>"
      ]
    },
    {
      "cell_type": "code",
      "execution_count": 3,
      "metadata": {
        "colab": {
          "base_uri": "https://localhost:8080/"
        },
        "id": "YEunFUITGAGg",
        "outputId": "4c9b2b87-7a41-4d9b-a5ea-fe7ad16a2f69"
      },
      "outputs": [
        {
          "output_type": "stream",
          "name": "stdout",
          "text": [
            "Collecting control\n",
            "  Downloading control-0.9.1.tar.gz (357 kB)\n",
            "\u001b[?25l\r\u001b[K     |█                               | 10 kB 17.7 MB/s eta 0:00:01\r\u001b[K     |█▉                              | 20 kB 9.9 MB/s eta 0:00:01\r\u001b[K     |██▊                             | 30 kB 8.2 MB/s eta 0:00:01\r\u001b[K     |███▋                            | 40 kB 3.7 MB/s eta 0:00:01\r\u001b[K     |████▋                           | 51 kB 3.7 MB/s eta 0:00:01\r\u001b[K     |█████▌                          | 61 kB 4.4 MB/s eta 0:00:01\r\u001b[K     |██████▍                         | 71 kB 4.6 MB/s eta 0:00:01\r\u001b[K     |███████▎                        | 81 kB 4.8 MB/s eta 0:00:01\r\u001b[K     |████████▎                       | 92 kB 5.3 MB/s eta 0:00:01\r\u001b[K     |█████████▏                      | 102 kB 4.3 MB/s eta 0:00:01\r\u001b[K     |██████████                      | 112 kB 4.3 MB/s eta 0:00:01\r\u001b[K     |███████████                     | 122 kB 4.3 MB/s eta 0:00:01\r\u001b[K     |████████████                    | 133 kB 4.3 MB/s eta 0:00:01\r\u001b[K     |████████████▉                   | 143 kB 4.3 MB/s eta 0:00:01\r\u001b[K     |█████████████▊                  | 153 kB 4.3 MB/s eta 0:00:01\r\u001b[K     |██████████████▋                 | 163 kB 4.3 MB/s eta 0:00:01\r\u001b[K     |███████████████▋                | 174 kB 4.3 MB/s eta 0:00:01\r\u001b[K     |████████████████▌               | 184 kB 4.3 MB/s eta 0:00:01\r\u001b[K     |█████████████████▍              | 194 kB 4.3 MB/s eta 0:00:01\r\u001b[K     |██████████████████▎             | 204 kB 4.3 MB/s eta 0:00:01\r\u001b[K     |███████████████████▎            | 215 kB 4.3 MB/s eta 0:00:01\r\u001b[K     |████████████████████▏           | 225 kB 4.3 MB/s eta 0:00:01\r\u001b[K     |█████████████████████           | 235 kB 4.3 MB/s eta 0:00:01\r\u001b[K     |██████████████████████          | 245 kB 4.3 MB/s eta 0:00:01\r\u001b[K     |███████████████████████         | 256 kB 4.3 MB/s eta 0:00:01\r\u001b[K     |███████████████████████▉        | 266 kB 4.3 MB/s eta 0:00:01\r\u001b[K     |████████████████████████▊       | 276 kB 4.3 MB/s eta 0:00:01\r\u001b[K     |█████████████████████████▋      | 286 kB 4.3 MB/s eta 0:00:01\r\u001b[K     |██████████████████████████▌     | 296 kB 4.3 MB/s eta 0:00:01\r\u001b[K     |███████████████████████████▌    | 307 kB 4.3 MB/s eta 0:00:01\r\u001b[K     |████████████████████████████▍   | 317 kB 4.3 MB/s eta 0:00:01\r\u001b[K     |█████████████████████████████▎  | 327 kB 4.3 MB/s eta 0:00:01\r\u001b[K     |██████████████████████████████▏ | 337 kB 4.3 MB/s eta 0:00:01\r\u001b[K     |███████████████████████████████▏| 348 kB 4.3 MB/s eta 0:00:01\r\u001b[K     |████████████████████████████████| 357 kB 4.3 MB/s \n",
            "\u001b[?25hRequirement already satisfied: numpy in /usr/local/lib/python3.7/dist-packages (from control) (1.21.5)\n",
            "Requirement already satisfied: scipy in /usr/local/lib/python3.7/dist-packages (from control) (1.4.1)\n",
            "Requirement already satisfied: matplotlib in /usr/local/lib/python3.7/dist-packages (from control) (3.2.2)\n",
            "Requirement already satisfied: pyparsing!=2.0.4,!=2.1.2,!=2.1.6,>=2.0.1 in /usr/local/lib/python3.7/dist-packages (from matplotlib->control) (3.0.7)\n",
            "Requirement already satisfied: kiwisolver>=1.0.1 in /usr/local/lib/python3.7/dist-packages (from matplotlib->control) (1.3.2)\n",
            "Requirement already satisfied: python-dateutil>=2.1 in /usr/local/lib/python3.7/dist-packages (from matplotlib->control) (2.8.2)\n",
            "Requirement already satisfied: cycler>=0.10 in /usr/local/lib/python3.7/dist-packages (from matplotlib->control) (0.11.0)\n",
            "Requirement already satisfied: six>=1.5 in /usr/local/lib/python3.7/dist-packages (from python-dateutil>=2.1->matplotlib->control) (1.15.0)\n",
            "Building wheels for collected packages: control\n",
            "  Building wheel for control (setup.py) ... \u001b[?25l\u001b[?25hdone\n",
            "  Created wheel for control: filename=control-0.9.1-py2.py3-none-any.whl size=364703 sha256=5d1bf3ce10dac276f21580ace931de2280bcd4668c28d3bf31209ff3625eea2e\n",
            "  Stored in directory: /root/.cache/pip/wheels/b1/50/22/8005107713828997d1af664fbd629c7f935a1b87fc2f4ba6c1\n",
            "Successfully built control\n",
            "Installing collected packages: control\n",
            "Successfully installed control-0.9.1\n"
          ]
        }
      ],
      "source": [
        "\n",
        "!pip install control\n"
      ]
    },
    {
      "cell_type": "code",
      "source": [
        ""
      ],
      "metadata": {
        "id": "iUaB_TNuQxQN"
      },
      "execution_count": null,
      "outputs": []
    },
    {
      "cell_type": "markdown",
      "source": [
        ""
      ],
      "metadata": {
        "id": "NubGi7aJQ0UU"
      }
    },
    {
      "cell_type": "code",
      "source": [
        "import control as ctrl"
      ],
      "metadata": {
        "id": "8H82JW1rQ2Wc"
      },
      "execution_count": 4,
      "outputs": []
    },
    {
      "cell_type": "markdown",
      "source": [
        "G(s) =s+ 3 / s^2 + 5s + 6"
      ],
      "metadata": {
        "id": "hKHST7U4RRwz"
      }
    },
    {
      "cell_type": "code",
      "source": [
        "num = [1,3]\n",
        "den = [1,5,6]\n",
        "G = ctrl.TransferFunction(num,den)\n",
        "\n",
        "print(G)"
      ],
      "metadata": {
        "colab": {
          "base_uri": "https://localhost:8080/"
        },
        "id": "IQD5JhuAQ708",
        "outputId": "a39400b5-cd31-454e-a957-e825e1feed88"
      },
      "execution_count": 6,
      "outputs": [
        {
          "output_type": "stream",
          "name": "stdout",
          "text": [
            "\n",
            "    s + 3\n",
            "-------------\n",
            "s^2 + 5 s + 6\n",
            "\n"
          ]
        }
      ]
    },
    {
      "cell_type": "code",
      "source": [
        ""
      ],
      "metadata": {
        "id": "rP0ZVsUdSPll"
      },
      "execution_count": null,
      "outputs": []
    },
    {
      "cell_type": "markdown",
      "source": [
        "ctrl.series "
      ],
      "metadata": {
        "id": "D81jJ2_8SVYc"
      }
    },
    {
      "cell_type": "code",
      "source": [
        "import matplotlib.pyplot as plt\n",
        "\n",
        "#STEP RESPONSE\n",
        "t_step, y_step = ctrl.step_response(G)\n",
        "t_imp, y_imp = ctrl.impulse_response(G)\n",
        "plt.plot(t_step,y_step)\n",
        "plt.plot(t_imp, y_imp)\n",
        "plt.show()"
      ],
      "metadata": {
        "colab": {
          "base_uri": "https://localhost:8080/",
          "height": 265
        },
        "id": "VUpEUGArSz7W",
        "outputId": "f17207b6-e12b-404c-c80c-4f89ee1c04a6"
      },
      "execution_count": 13,
      "outputs": [
        {
          "output_type": "display_data",
          "data": {
            "text/plain": [
              "<Figure size 432x288 with 1 Axes>"
            ],
            "image/png": "[encoded data removed]"
          },
          "metadata": {
            "needs_background": "light"
          }
        }
      ]
    },
    {
      "cell_type": "markdown",
      "source": [
        ""
      ],
      "metadata": {
        "id": "-60pFH9jUZ5w"
      }
    },
    {
      "cell_type": "code",
      "source": [
        "import numpy as np\n",
        "\n",
        "# create u(t), for t = 0,...,10(5000 points)\n",
        "t = np.linspace(0,10,5000)\n",
        "u = np.sin(np.sqrt(t))\n",
        "\n",
        "res = ctrl.forced_response(G,t,u,0)\n",
        "\n",
        "plt.plot(res.time,res.outputs)\n",
        "#plt.show()"
      ],
      "metadata": {
        "colab": {
          "base_uri": "https://localhost:8080/",
          "height": 282
        },
        "id": "pI_fWn1UUaps",
        "outputId": "1b82432d-0178-4f54-839e-efcce617950d"
      },
      "execution_count": 18,
      "outputs": [
        {
          "output_type": "execute_result",
          "data": {
            "text/plain": [
              "[<matplotlib.lines.Line2D at 0x7f70afb17050>]"
            ]
          },
          "metadata": {},
          "execution_count": 18
        },
        {
          "output_type": "display_data",
          "data": {
            "text/plain": [
              "<Figure size 432x288 with 1 Axes>"
            ],
            "image/png": "[encoded data removed]"
          },
          "metadata": {
            "needs_background": "light"
          }
        }
      ]
    },
    {
      "cell_type": "code",
      "source": [
        ""
      ],
      "metadata": {
        "id": "9kLBc-X0WveY"
      },
      "execution_count": null,
      "outputs": []
    },
    {
      "cell_type": "markdown",
      "source": [
        "$$\n",
        "G_c(s)= K_c\\left(1+\\tau_D s+\n",
        "$$"
      ],
      "metadata": {
        "id": "PmMBbAQ2WzGn"
      }
    },
    {
      "cell_type": "code",
      "source": [
        ""
      ],
      "metadata": {
        "id": "fsXgC2NmXWUt"
      },
      "execution_count": null,
      "outputs": []
    },
    {
      "cell_type": "markdown",
      "source": [
        ""
      ],
      "metadata": {
        "id": "7aUWeNKnXXTl"
      }
    },
    {
      "cell_type": "code",
      "source": [
        "def pid(kp,ki,kd):\n",
        "  diff= ctrl.TransferFunction ([1,0],[1])\n",
        "  integral = ctrl.TransferFunction([1],[1,0])\n",
        "  Gpid = kp +kd * diff + ki + integral \n",
        "  return Gpid\n",
        "\n",
        "my_pid = pid(1, 0.2,0.01)\n",
        "print(my_pid)\n",
        "                             "
      ],
      "metadata": {
        "colab": {
          "base_uri": "https://localhost:8080/"
        },
        "id": "xY_WtWzdXb4F",
        "outputId": "35e5f865-b372-461e-c365-70d9d263acf0"
      },
      "execution_count": 36,
      "outputs": [
        {
          "output_type": "stream",
          "name": "stdout",
          "text": [
            "\n",
            "0.01 s^2 + 1.2 s + 1\n",
            "--------------------\n",
            "         s\n",
            "\n"
          ]
        }
      ]
    },
    {
      "cell_type": "code",
      "source": [
        "d = 25\n",
        "c = 6\n",
        "G_theta = ctrl.TransferFunction(-c,[1,0,-d])\n",
        "G_c = -pid (1, 0, 0.8)\n",
        "\n",
        "G_load = ctrl.feedback(G_theta,G_c,sign=1)\n",
        "print(G_load)\n",
        "\n",
        "t_imp, theta_imp = ctrl.impulse_response(G_load)\n",
        "plt.plot(t_imp, theta_imp)\n",
        "plt.show()"
      ],
      "metadata": {
        "colab": {
          "base_uri": "https://localhost:8080/",
          "height": 364
        },
        "id": "VM30YPtpZPCw",
        "outputId": "3b0445a6-abba-446e-9247-dd226eceeb81"
      },
      "execution_count": 44,
      "outputs": [
        {
          "output_type": "stream",
          "name": "stdout",
          "text": [
            "\n",
            "          -6 s\n",
            "------------------------\n",
            "s^3 - 4.8 s^2 - 31 s - 6\n",
            "\n"
          ]
        },
        {
          "output_type": "display_data",
          "data": {
            "text/plain": [
              "<Figure size 432x288 with 1 Axes>"
            ],
            "image/png": "[encoded data removed]"
          },
          "metadata": {
            "needs_background": "light"
          }
        }
      ]
    }
  ]
}